{
 "cells": [
  {
   "cell_type": "code",
   "execution_count": null,
   "metadata": {},
   "outputs": [],
   "source": [
    "import os\n",
    "import pandas\n",
    "from openai import AzureOpenAI\n",
    " \n",
    "\n"
   ]
  },
  {
   "cell_type": "code",
   "execution_count": null,
   "metadata": {},
   "outputs": [],
   "source": [
    "client = AzureOpenAI(\n",
    "    api_key=\"Provide your API key here\",  \n",
    "    api_version=\"2024-02-01\",\n",
    "    azure_endpoint = \"Provide your Azure endpoint here\"\n",
    "    )\n",
    "      \n",
    "      "
   ]
  },
  {
   "cell_type": "code",
   "execution_count": null,
   "metadata": {},
   "outputs": [],
   "source": [
    "def ask_gpt4(prompt, assistant_content=\"You are a helpful assistant\",debug=False):\n",
    "    completion = client.chat.completions.create(\n",
    "        model=\"Provide your model here\",\n",
    "        messages=[\n",
    "            {\n",
    "                \"role\": \"user\",\n",
    "                \"content\": prompt,\n",
    "            },\n",
    "            {\n",
    "                \"role\": \"assistant\",\n",
    "                \"content\": assistant_content,\n",
    "            }\n",
    "        ],\n",
    "    )\n",
    "    if debug:\n",
    "        print(completion)\n",
    "        print(completion.choices[0].message.content)\n",
    "    return completion.choices[0].message.content"
   ]
  },
  {
   "cell_type": "code",
   "execution_count": null,
   "metadata": {},
   "outputs": [],
   "source": [
    "import pandas as pd\n",
    "\n",
    "# Read the CSV file\n",
    "df = pd.read_csv('2015_Green_Taxi_Trip_Data.csv')\n",
    "\n",
    "# Display the dataframe\n",
    "display(df.sample(5))"
   ]
  },
  {
   "cell_type": "code",
   "execution_count": null,
   "metadata": {},
   "outputs": [],
   "source": [
    "# Take a small sample of your data\n",
    "sample = df.sample(5)\n",
    "\n",
    "# Convert the sample to a text format\n",
    "sample_text = sample.to_string(index=False)\n",
    "\n",
    "# Formulate a question that includes the sample data\n",
    "question = f\"I have a sample of taxi data:\\n\\n{sample_text}\\n\\nWhat insights can I draw from this data?\"\n"
   ]
  },
  {
   "cell_type": "code",
   "execution_count": null,
   "metadata": {},
   "outputs": [],
   "source": [
    "# Ask GPT-4 the question\n",
    "print(f\"Question: {question}\")\n",
    "print(f\"Answer: {ask_gpt4(question)}\")"
   ]
  },
  {
   "cell_type": "code",
   "execution_count": null,
   "metadata": {},
   "outputs": [],
   "source": [
    "sample_assistant_prompt =  f\"I have a sample of taxi data:\\n\\n{sample_text}\\n\\n. You are a helpful assistant that helps to gain insights from data?\"\n",
    "question = \"How to analyze which taxi vendors are operating most trips?\"\n"
   ]
  },
  {
   "cell_type": "code",
   "execution_count": null,
   "metadata": {},
   "outputs": [],
   "source": [
    "print(ask_gpt4(question, assistant_content=sample_assistant_prompt))"
   ]
  },
  {
   "cell_type": "code",
   "execution_count": null,
   "metadata": {},
   "outputs": [],
   "source": [
    "sample_assistant_prompt =  f\"I have a sample of taxi data:\\n\\n{sample_text}\\n\\n. You are a helpful assistant that helps to gain insights from data. Your response is Python code\"\n",
    "question = \"How to analyze which taxi vendors are operating most trips?\"\n",
    "print(ask_gpt4(question, assistant_content=sample_assistant_prompt))"
   ]
  },
  {
   "cell_type": "code",
   "execution_count": null,
   "metadata": {},
   "outputs": [],
   "source": [
    "sample_assistant_prompt =  f\"I have a sample of taxi data:\\n\\n{sample_text}\\n\\n. You are a helpful assistant that helps to gain insights from data. Your response is Python code and only Python code, withou any comments in natural language\"\n",
    "question = \"How to analyze which taxi vendors are operating most trips?\"\n",
    "print(ask_gpt4(question, assistant_content=sample_assistant_prompt))"
   ]
  },
  {
   "cell_type": "code",
   "execution_count": null,
   "metadata": {},
   "outputs": [],
   "source": [
    "\n",
    "import pandas as pd\n",
    "\n",
    "# Count the number of trips made by each vendor\n",
    "trip_counts_by_vendor = df['vendorid'].value_counts()\n",
    "\n",
    "print(trip_counts_by_vendor)"
   ]
  },
  {
   "cell_type": "code",
   "execution_count": null,
   "metadata": {},
   "outputs": [],
   "source": [
    "# Take a small sample of your data\n",
    "sample = df.sample(50)\n",
    "\n",
    "# Convert the sample to a text format\n",
    "sample_text = sample.to_string(index=False)\n",
    "\n",
    "sample_assistant_prompt =  f\"I have a sample of taxi data:\\n\\n{sample_text}\\n\\n. You are a helpful assistant that helps to gain insights from data.e\"\n",
    "question = \"Which trip is most anomalous in the sample data?\"\n",
    "print(ask_gpt4(question, assistant_content=sample_assistant_prompt))"
   ]
  },
  {
   "cell_type": "code",
   "execution_count": null,
   "metadata": {},
   "outputs": [],
   "source": [
    "question = \"What is the average trip distance?\"\n",
    "print(ask_gpt4(question, assistant_content=sample_assistant_prompt))"
   ]
  },
  {
   "cell_type": "code",
   "execution_count": null,
   "metadata": {},
   "outputs": [],
   "source": [
    "import pandas as pd\n",
    "\n",
    "df = sample\n",
    "# Assuming 'df' is your DataFrame and 'Trip_distance' is the column of interest\n",
    "average_trip_distance = df['Trip_distance'].mean()\n",
    "print(f'The average trip distance is: {average_trip_distance}')\n",
    "\n",
    "## find anomalous trip\n",
    "# Find the trip with the maximum trip distance\n",
    "max_trip_distance = df['Trip_distance'].max()\n",
    "print(f'The maximum trip distance is: {max_trip_distance}')\n",
    "\n",
    "## plot trip distribution\n",
    "import matplotlib.pyplot as plt\n",
    "\n",
    "# Plot the distribution of trip distances\n",
    "df['Trip_distance'].plot.hist(bins=100)\n",
    "plt.xlabel('Trip distance')\n",
    "plt.ylabel('Frequency')\n",
    "plt.title('Distribution of trip distances')\n",
    "\n",
    "# Display the plot\n",
    "plt.show()\n",
    "\n",
    "\n"
   ]
  },
  {
   "cell_type": "code",
   "execution_count": null,
   "metadata": {},
   "outputs": [],
   "source": [
    "### groupby trip distance boxed to 10 miles and show count\n",
    "# Group the data by trip distance\n",
    "\n",
    "trip_distance_groups = df.groupby(pd.cut(df['Trip_distance'], bins=range(0, 100, 10)))\n",
    "\n",
    "# Count the number of trips in each group\n",
    "trip_distance_counts = trip_distance_groups.size()\n",
    "\n",
    "print(trip_distance_counts)\n"
   ]
  },
  {
   "cell_type": "code",
   "execution_count": null,
   "metadata": {},
   "outputs": [],
   "source": [
    "print(sample_text)"
   ]
  },
  {
   "cell_type": "code",
   "execution_count": null,
   "metadata": {},
   "outputs": [],
   "source": [
    "question = \"What is the average trip distance based on Trip_distance column?\"\n",
    "sample_assistant_prompt =  f\"I have a sample of taxi data:\\n\\n{sample_text}\\n\\n. You are a helpful assistant that helps to gain insights from data\"\n",
    "print(ask_gpt4(question, assistant_content=sample_assistant_prompt))"
   ]
  }
 ],
 "metadata": {
  "kernelspec": {
   "display_name": "hexcode-workshop",
   "language": "python",
   "name": "python3"
  },
  "language_info": {
   "codemirror_mode": {
    "name": "ipython",
    "version": 3
   },
   "file_extension": ".py",
   "mimetype": "text/x-python",
   "name": "python",
   "nbconvert_exporter": "python",
   "pygments_lexer": "ipython3",
   "version": "3.11.2"
  }
 },
 "nbformat": 4,
 "nbformat_minor": 2
}
