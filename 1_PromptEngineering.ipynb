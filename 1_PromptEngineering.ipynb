{
 "cells": [
  {
   "cell_type": "code",
   "execution_count": 2,
   "metadata": {},
   "outputs": [],
   "source": [
    "import os\n",
    "import pandas\n",
    "from openai import AzureOpenAI"
   ]
  },
  {
   "cell_type": "code",
   "execution_count": 3,
   "metadata": {},
   "outputs": [],
   "source": [
    "client = AzureOpenAI(\n",
    "    api_key=\"798788351cf4428fa4fa1b32894b4ef9\" ,  \n",
    "    api_version=\"2024-02-01\",\n",
    "    azure_endpoint = \"https://gptservice0323.openai.azure.com/\"\n",
    "    )\n",
    "      "
   ]
  },
  {
   "cell_type": "code",
   "execution_count": 15,
   "metadata": {},
   "outputs": [],
   "source": [
    "def ask_gpt4(prompt, assistant_content=\"You are a helpful assistant\",debug=False):\n",
    "    messages=[\n",
    "            {\n",
    "                \"role\": \"user\",\n",
    "                \"content\": prompt,\n",
    "            },\n",
    "            {\n",
    "                \"role\": \"assistant\",\n",
    "                \"content\": assistant_content,\n",
    "            },\n",
    "        ]\n",
    "    completion = client.chat.completions.create(\n",
    "        model=\"GPT4analitycsworkshop\",\n",
    "        messages=messages\n",
    "    )\n",
    "    \n",
    "\n",
    "    if debug:\n",
    "        print(completion)\n",
    "        print(completion.choices[0].message.content)\n",
    "    return completion.choices[0].message.content"
   ]
  },
  {
   "cell_type": "markdown",
   "metadata": {},
   "source": [
    "### Strategy 1: Write clear instructions"
   ]
  },
  {
   "cell_type": "markdown",
   "metadata": {},
   "source": [
    "Tactic: Include details in your query to get more relevant answers"
   ]
  },
  {
   "cell_type": "code",
   "execution_count": 5,
   "metadata": {},
   "outputs": [
    {
     "name": "stdout",
     "output_type": "stream",
     "text": [
      "There are several ways to add numbers in Excel, here are a couple of common methods:\n",
      "\n",
      "1. **Manual Addition**: you can simply type the addition formula into a cell. For example, to add 2 and 3, you would type `=2+3` into a cell, then press 'Enter'. The cell will then display the result, which is 5.\n",
      "\n",
      "2. **Using SUM Function**: SUM is a function that adds all numbers in a range of cells. Here's how to use it:\n",
      "\n",
      "   - Click on the cell where you want the result to be displayed.\n",
      "   - Type `=SUM(`.\n",
      "   - Click and drag to select the range of cells you want to add. You can also type the range. E.g., if you want to add numbers in cells A1 through A3, you can type `A1:A3`.\n",
      "   - Close parentheses `)`.\n",
      "   - Press 'Enter'.\n",
      "\n",
      "For example, if you want to add the numbers in cells A1, A2, and A3, you would click on the cell where you want the result to be, type `=SUM(A1:A3)`, then press 'Enter'. The cell will display the sum of the numbers in A1, A2, and A3. \n",
      "\n",
      "3. **Adding with AutoSum**: Excel also includes an AutoSum button (Σ) on the 'Home' and 'Formulas' tabs. By selecting a range of numbers and clicking the 'AutoSum' button, Excel automatically inserts the SUM function into the adjacent cell. \n",
      "\n",
      "Remember to always start a formula with an equal sign `=`. It's how Excel knows that you are creating a formula or function and not just typing text.\n",
      "\n"
     ]
    }
   ],
   "source": [
    "prompt = \"How do I add numbers in Excel?\"\n",
    "print(ask_gpt4(prompt))"
   ]
  },
  {
   "cell_type": "code",
   "execution_count": 6,
   "metadata": {},
   "outputs": [
    {
     "name": "stdout",
     "output_type": "stream",
     "text": [
      "Here are the steps you can follow to do this:\n",
      "\n",
      "1. First, determine the column range for your dollar amount. Column headers are represented by letters (A, B, C, etc.) while rows are represented by numbers (1, 2, 3, etc.). For example, if your dollar amounts are in columns A to E, your range would be A:E.\n",
      "\n",
      "2. After determining your column range, you will need to select the cell where you want the total to appear. To auto sum in column F for instance, click the cell in column F corresponding to your first row of dollar amounts.\n",
      "\n",
      "3. Click on the \"Formulas\" tab at the top menu, and in the \"Function Library\" group, click on \"AutoSum\" or you can simply click on Σ at the home tab.\n",
      "\n",
      "4. Excel will automatically propose a selection to sum, check if it corresponds to your desired row. If not, manually select the cells you wish to add up.\n",
      "\n",
      "5. Press Enter and Excel will calculate the sum of the numbers you selected.\n",
      "\n",
      "6. To repeat this for all other rows, move your mouse to the bottom-right corner of the cell you just filled until it changes into a small black plus sign. Click and drag down the column to copy the formula to all other cells.\n",
      "\n",
      "7. Release the mouse button, and Excel will calculate the sum for all rows automatically.\n",
      "\n",
      "8. Rename the column F as Total by writing it in the F1 cell (assuming the first row is used for headers).\n",
      "\n",
      "Now, every time you alter any of the dollar amounts in columns A-E, Excel will automatically update the corresponding row's total in the Total column.\n"
     ]
    }
   ],
   "source": [
    "prompt = \"How do I add up a row of dollar amounts in Excel? I want to do this automatically for a whole sheet of rows with all the totals ending up on the right in a column called Total.\"\n",
    "print(ask_gpt4(prompt))"
   ]
  },
  {
   "cell_type": "markdown",
   "metadata": {},
   "source": [
    "Tactic: Ask the model to adopt a persona"
   ]
  },
  {
   "cell_type": "code",
   "execution_count": 7,
   "metadata": {},
   "outputs": [
    {
     "name": "stdout",
     "output_type": "stream",
     "text": [
      "Subject: Expressing Our Sincere Gratitude for Your Exceptional Service!\n",
      "\n",
      "Dear [Vendor's Name],\n",
      "\n",
      "I hope this message finds you well. We are taking this opportunity to extend our deepest appreciation to you for pulling off the impossible, and delivering the steel bolts on such short notice. We must admit, your punctuality and ability to cater to our demands reminds us of a bolt of lightning - appearing exactly when needed!\n",
      "\n",
      "The commitment you displayed by delivering the order on time is truly commendable. You were our real-life \"Flash\" in that instance, rushing against time - and winning! Major brownie points for that!\n",
      "\n",
      "Your delivery came at a critical juncture, enabling us to complete an important order on time. This success would have been not been possible without your prompt assistance. Much like a sturdy steel bolt, you've helped hold our commitments together effectively. \n",
      "\n",
      "Please accept our heartiest thanks for your consistent services and support. Look at you - probably transforming into Iron Man or Superman as you gear up to save another business day! \n",
      "\n",
      "On a serious note - your effort is highly valued and we hope to continue this fruitful association in the times to come. Here's a toast to our impenetrable bond, as solid as the steel bolts you supply!\n",
      "\n",
      "Thanks,\n",
      "\n",
      "[Your Name]\n",
      "[Your Position] \n",
      "[Your Contact Information]\n"
     ]
    }
   ],
   "source": [
    "prompt = \"Write a thank you note to my steel bolt vendor for getting the delivery in on time and in short notice. This made it possible for us to deliver an important order.\"\n",
    "system_message = \"You are a helpful assistant. Please include a playful comment in every paragraph.\"\n",
    "response = ask_gpt4(prompt, assistant_content=system_message)\n",
    "\n",
    "print(response)"
   ]
  },
  {
   "cell_type": "markdown",
   "metadata": {},
   "source": [
    "Tactic: Use delimiters to clearly indicate distinct parts of the input\n"
   ]
  },
  {
   "cell_type": "code",
   "execution_count": 9,
   "metadata": {},
   "outputs": [
    {
     "name": "stdout",
     "output_type": "stream",
     "text": [
      "To improve your coding skills, here are some strategies you may find helpful:\n",
      "\n",
      "1. **Practice Regularly** - The saying \"practice makes perfect\" applies pretty well to programming. You can use online platforms such as LeetCode, HackerRank, or Codecademy which offer coding problems of varying difficulty levels.\n",
      "\n",
      "2. **Read Others' Code** - By looking at how others solve coding problems, you can gain new insights and learn various ways of thinking.\n",
      "\n",
      "3. **Work on Project** - Building your own project from scratch is one of the best ways to learn and understand how things work. This will also enable you to get hands-on experience with debugging and problem-solving.\n",
      "\n",
      "4. **Use Documentation** - Python has comprehensive and easy-to-understand official documentation. Reading documentation can help you understand the full capabilities of Python's built-in functions and modules.\n",
      "\n",
      "5. **Join a Community** - Participate in forums or groups associated with Python or general coding practices. Examples include Stack Overflow or the Python subreddit. You will get to learn a lot from the queries and solutions there.\n",
      "\n",
      "6. **Understand Algorithms and Data Structures** - These are fundamental to efficient programming. Understanding them will help you write more efficient and quicker code.\n",
      "\n",
      "Remember, becoming a proficient programmer takes time, patience, and lots of practice. Good luck!\n"
     ]
    }
   ],
   "source": [
    "prompt = \"###DELIMITER###\\n\\n\"\n",
    "prompt += \"Question: How can I improve my coding skills?\\n\\n\"\n",
    "prompt += \"###DELIMITER###\\n\\n\"\n",
    "prompt += \"Context: I have been learning Python for a while and want to become a better programmer. What are some strategies or resources I can use to enhance my coding skills?\\n\\n\"\n",
    "\n",
    "response = ask_gpt4(prompt)\n",
    "print(response)"
   ]
  },
  {
   "cell_type": "markdown",
   "metadata": {},
   "source": [
    "Tactic: Specify the steps required to complete a task"
   ]
  },
  {
   "cell_type": "code",
   "execution_count": 10,
   "metadata": {},
   "outputs": [
    {
     "name": "stdout",
     "output_type": "stream",
     "text": [
      "Summary: A swift fox of a brown color jumps over a sluggish dog.\n",
      "\n",
      "Translation: Resumen: Un zorro rápido de color marrón salta sobre un perro perezoso.\n"
     ]
    }
   ],
   "source": [
    "prompt = \"'''The quick brown fox jumps over the lazy dog.'''\"\n",
    "system_message = \"Use the following step-by-step instructions to respond to user inputs.Step 1 - The user will provide you with text in triple quotes. Summarize this text in one sentence with a prefix that says 'Summary: '.Step 2 - Translate the summary from Step 1 into Spanish, with a prefix that says 'Translation: '.\"\n",
    "response = ask_gpt4(prompt, assistant_content=system_message)\n",
    "\n",
    "print(response)"
   ]
  },
  {
   "cell_type": "markdown",
   "metadata": {},
   "source": [
    "Tactic: Provide examples"
   ]
  },
  {
   "cell_type": "code",
   "execution_count": 20,
   "metadata": {
    "vscode": {
     "languageId": "javascript"
    }
   },
   "outputs": [
    {
     "name": "stdout",
     "output_type": "stream",
     "text": [
      "To calculate the median in Excel, you can use the MEDIAN function. The general format is:\n",
      "\n",
      "=MEDIAN(number1, number2,...)\n",
      "\n",
      "If you want to find the median of a range of cells, you can do it like this:\n",
      "\n",
      "=MEDIAN(A1:A10) \n",
      "\n",
      "In this example, Excel calculates the median of the numbers in cells A1 through A10.\n"
     ]
    }
   ],
   "source": [
    "examples = [\n",
    "    {'role': 'user', 'content': 'How can I sum a column of numbers in Excel?'},\n",
    "    {'role': 'assistant', 'content': 'To add numbers in Excel, you can use the SUM function.'},\n",
    "    {'role': 'user', 'content': 'What is the formula to calculate the average in Excel?'},\n",
    "    {'role': 'assistant', 'content': 'To calculate the average in Excel, you can use the AVERAGE function.'},\n",
    "    {'role': 'user', 'content': 'What is the formula to calculate the median in Excel?'},\n",
    "]\n",
    "\n",
    "completion = client.chat.completions.create(\n",
    "    model=\"GPT4analitycsworkshop\",\n",
    "    messages=examples\n",
    ")\n",
    "\n",
    "response = completion.choices[0].message.content\n",
    "print(response)"
   ]
  },
  {
   "cell_type": "markdown",
   "metadata": {
    "vscode": {
     "languageId": "javascript"
    }
   },
   "source": [
    "Tactic: Specify the desired length of the output"
   ]
  },
  {
   "cell_type": "code",
   "execution_count": 22,
   "metadata": {
    "vscode": {
     "languageId": "javascript"
    }
   },
   "outputs": [
    {
     "name": "stdout",
     "output_type": "stream",
     "text": [
      "\"Quick\", \"jumps\"\n"
     ]
    }
   ],
   "source": [
    "prompt = \"'''The quick brown fox jumps over the lazy dog.'''\"\n",
    "system_message = \"Extract two key words from the text\"\n",
    "response = ask_gpt4(prompt, assistant_content=system_message)\n",
    "\n",
    "print(response)"
   ]
  },
  {
   "cell_type": "markdown",
   "metadata": {
    "vscode": {
     "languageId": "javascript"
    }
   },
   "source": [
    "Strategy: Provide reference text"
   ]
  },
  {
   "cell_type": "markdown",
   "metadata": {},
   "source": [
    "Tactic: Instruct the model to answer using a reference text"
   ]
  },
  {
   "cell_type": "code",
   "execution_count": 25,
   "metadata": {},
   "outputs": [
    {
     "name": "stdout",
     "output_type": "stream",
     "text": [
      "The information provided in the articles does not contain an answer to your question.\n"
     ]
    }
   ],
   "source": [
    "# Define the articles delimited by triple quotes\n",
    "articles = '''\n",
    "Article 1: This is the content of the first article.\n",
    "It provides information about a specific topic.\n",
    "\n",
    "Article 2: This is the content of the second article.\n",
    "It covers another aspect related to the topic.\n",
    "\n",
    "Article 3: This is the content of the third article.\n",
    "It discusses additional details and examples.\n",
    "'''\n",
    "\n",
    "# Define the question\n",
    "question = \"What is the answer to my question?\"\n",
    "\n",
    "# Combine the articles and question into the prompt\n",
    "prompt = articles + \"\\n\\nQuestion: \" + question\n",
    "assistant_content = \"Use the provided articles delimited by triple quotes to answer questions. If the answer cannot be found in the articles, write I could not find an answer.\"\n",
    "# Call the ask_gpt4 function with the prompt\n",
    "response = ask_gpt4(prompt, assistant_content=assistant_content)\n",
    "\n",
    "# Print the response\n",
    "print(response)"
   ]
  },
  {
   "cell_type": "code",
   "execution_count": null,
   "metadata": {},
   "outputs": [],
   "source": []
  }
 ],
 "metadata": {
  "kernelspec": {
   "display_name": "hexcode-workshop",
   "language": "python",
   "name": "python3"
  },
  "language_info": {
   "codemirror_mode": {
    "name": "ipython",
    "version": 3
   },
   "file_extension": ".py",
   "mimetype": "text/x-python",
   "name": "python",
   "nbconvert_exporter": "python",
   "pygments_lexer": "ipython3",
   "version": "3.11.2"
  }
 },
 "nbformat": 4,
 "nbformat_minor": 2
}
