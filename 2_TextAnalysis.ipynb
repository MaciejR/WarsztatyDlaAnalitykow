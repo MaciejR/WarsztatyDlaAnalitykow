{
 "cells": [
  {
   "cell_type": "code",
   "execution_count": null,
   "metadata": {},
   "outputs": [],
   "source": [
    "import os\n",
    "import pandas\n",
    "from openai import AzureOpenAI\n",
    " \n"
   ]
  },
  {
   "cell_type": "code",
   "execution_count": null,
   "metadata": {},
   "outputs": [],
   "source": [
    "client = AzureOpenAI(\n",
    "    api_key=\"798788351cf4428fa4fa1b32894b4ef9\" ,  \n",
    "    api_version=\"2024-02-01\",\n",
    "    azure_endpoint = \"https://gptservice0323.openai.azure.com/\"\n",
    "    )"
   ]
  },
  {
   "cell_type": "code",
   "execution_count": null,
   "metadata": {},
   "outputs": [],
   "source": [
    "def ask_gpt4(prompt, assistant_content=\"You are a helpful assistant\",debug=False):\n",
    "    completion = client.chat.completions.create(\n",
    "        model=\"GPT4analitycsworkshop\",\n",
    "        messages=[\n",
    "            {\n",
    "                \"role\": \"user\",\n",
    "                \"content\": prompt,\n",
    "            },\n",
    "            {\n",
    "                \"role\": \"assistant\",\n",
    "                \"content\": assistant_content,\n",
    "            }\n",
    "        ],\n",
    "    )\n",
    "    if debug:\n",
    "        print(completion)\n",
    "        print(completion.choices[0].message.content)\n",
    "    return completion.choices[0].message.content"
   ]
  },
  {
   "cell_type": "markdown",
   "metadata": {},
   "source": [
    "### Text Analysis"
   ]
  },
  {
   "cell_type": "code",
   "execution_count": null,
   "metadata": {},
   "outputs": [],
   "source": [
    "### Creating a dataframe\n",
    "\n",
    "import pandas as pd\n",
    "\n",
    "data = {\n",
    "    'hotel_id': [1, 2, 3, 4, 5],\n",
    "    'review_id': [101, 102, 103, 104, 105],\n",
    "    'client_name': ['John', 'Julianne', 'Javier', 'Emilia', 'David'],\n",
    "    'review_text': [\n",
    "        \"Great hotel! I had an amazing experience in New York City. The staff was friendly and the room was clean and comfortable.\",\n",
    "        \"J'ai passé un merveilleux séjour dans cet hôtel à Paris. L'emplacement était parfait et les équipements étaient super.\",\n",
    "        \"Tuve una estancia maravillosa en el hotel en Barcelona. El personal fue servicial y la comida estaba deliciosa.\",\n",
    "        \"Bardzo miły pobyt w hotelu w Krakowie. Obsługa była świetna!\",\n",
    "        \"I had a great stay at the hotel in London. The staff was amazing!\"\n",
    "    ]\n",
    "}\n",
    "\n",
    "df = pd.DataFrame(data)\n",
    "print(df)"
   ]
  },
  {
   "cell_type": "code",
   "execution_count": null,
   "metadata": {},
   "outputs": [],
   "source": [
    "def get_sentiment(text):\n",
    "    prompt = f\"Perform sentiment analysis on the following text:\\n\\n{text}. Answer with only one word: positive, negative, or neutral.\"\n",
    "    response = ask_gpt4(prompt)\n",
    "    if response is None:\n",
    "        response = \"not defined\"\n",
    "    return response\n",
    "    \n",
    "\n",
    "\n",
    "\n"
   ]
  },
  {
   "cell_type": "code",
   "execution_count": null,
   "metadata": {},
   "outputs": [],
   "source": [
    "text = \"I love this product! It's the best thing I've ever bought.\"\n",
    "print(get_sentiment(text))"
   ]
  },
  {
   "cell_type": "code",
   "execution_count": null,
   "metadata": {},
   "outputs": [],
   "source": [
    "## apply get_sentiment on df\n",
    "df['sentiment'] = df['review_text'].apply(get_sentiment)\n",
    "\n",
    "display(df)"
   ]
  },
  {
   "cell_type": "code",
   "execution_count": null,
   "metadata": {},
   "outputs": [],
   "source": [
    "def detect_language(text):\n",
    "    prompt = \"What is the language of the following text: '{}'? Respond with only the name of the language\".format(text)\n",
    "    return ask_gpt4(prompt)\n",
    "# Display the updated DataFrame\n",
    "df['language'] = df['review_text'].apply(detect_language)\n",
    "\n",
    "display(df)"
   ]
  },
  {
   "cell_type": "code",
   "execution_count": null,
   "metadata": {},
   "outputs": [],
   "source": [
    "### detect key phrases in text, the same way as above\n",
    "def detect_key_phrases(text):\n",
    "    prompt = f\"What are the key phrases in the following text: '{text}'?\"\n",
    "    return ask_gpt4(prompt)\n",
    "# Display the updated DataFrame\n",
    "df['key_phrases'] = df['review_text'].apply(detect_key_phrases)\n",
    "\n",
    "display(df)\n"
   ]
  },
  {
   "cell_type": "code",
   "execution_count": null,
   "metadata": {},
   "outputs": [],
   "source": [
    "### detect named entities in text, the same way as above\n",
    "def detect_named_entities(text):\n",
    "    prompt = f\"What are the named entities in the following text: '{text}'? Answer only with detected named entities.\"\n",
    "    return ask_gpt4(prompt)\n",
    "# Display the updated DataFrame\n",
    "df['named_entities'] = df['review_text'].apply(detect_named_entities)\n",
    "\n",
    "display(df)\n"
   ]
  },
  {
   "cell_type": "code",
   "execution_count": null,
   "metadata": {},
   "outputs": [],
   "source": [
    "### work with entities\n",
    "def work_with_entities(text):\n",
    "    prompt = f\"What are the cities in the following text: '{text}'? Answer with the number of citizens of the city.The answer should contain only numeric values\"\n",
    "    return ask_gpt4(prompt)\n",
    "# Display the updated DataFrame\n",
    "df['population'] = df['review_text'].apply(work_with_entities)\n",
    "\n",
    "display(df)"
   ]
  },
  {
   "cell_type": "code",
   "execution_count": null,
   "metadata": {},
   "outputs": [],
   "source": [
    "### work with entities\n",
    "def work_with_entities2(text):\n",
    "    prompt = f\"What is the number of citizens in '{text}'? Answer with the number of citizens of the city.The answer should contain only numeric values\"\n",
    "    return ask_gpt4(prompt)\n",
    "# Display the updated DataFrame\n",
    "df['population2'] = df['named_entities'].apply(work_with_entities2)\n",
    "\n",
    "display(df)"
   ]
  },
  {
   "cell_type": "code",
   "execution_count": null,
   "metadata": {},
   "outputs": [],
   "source": [
    "def translate_text(text, target_language):\n",
    "    prompt = f\"Translate the following text to {target_language}: '{text}'\"\n",
    "    response = ask_gpt4(prompt)\n",
    "    if response is None:\n",
    "        response = \"Translation not available\"\n",
    "    return response\n",
    "\n",
    "text = \"Hello, how are you?\"\n",
    "target_language = \"French\"\n",
    "translation = translate_text(text, target_language)\n",
    "print(translation)"
   ]
  },
  {
   "cell_type": "code",
   "execution_count": null,
   "metadata": {},
   "outputs": [],
   "source": [
    "### translate the review_text column to Polish\n",
    "df['review_text_french'] = df['review_text'].apply(translate_text, target_language=\"Polish\")"
   ]
  },
  {
   "cell_type": "code",
   "execution_count": null,
   "metadata": {},
   "outputs": [],
   "source": [
    "display(df)"
   ]
  },
  {
   "cell_type": "code",
   "execution_count": null,
   "metadata": {},
   "outputs": [],
   "source": [
    "def translate_text2(text, target_language):\n",
    "    prompt = f\"Translate the following text to {target_language}: '{text}'. Change text to sound more in the style of teenagers\"\n",
    "    response = ask_gpt4(prompt)\n",
    "    if response is None:\n",
    "        response = \"Translation not available\"\n",
    "    return response\n",
    "\n",
    "text = \"Hello, how are you?\"\n",
    "target_language = \"French\"\n",
    "translation = translate_text2(text, target_language)\n",
    "print(translation)"
   ]
  },
  {
   "cell_type": "code",
   "execution_count": null,
   "metadata": {},
   "outputs": [],
   "source": [
    "df['review_text_french'] = df['review_text'].apply(translate_text2, target_language=\"Polish\")"
   ]
  },
  {
   "cell_type": "code",
   "execution_count": null,
   "metadata": {},
   "outputs": [],
   "source": [
    "display(df)"
   ]
  },
  {
   "cell_type": "code",
   "execution_count": null,
   "metadata": {},
   "outputs": [],
   "source": [
    "##show first review_text_french\n",
    "print(df['review_text_french'][2])"
   ]
  },
  {
   "cell_type": "code",
   "execution_count": null,
   "metadata": {},
   "outputs": [],
   "source": [
    "def review_response(text):\n",
    "    prompt = f\"Write a polite answer to the review: '{text}'.\"\n",
    "    response = ask_gpt4(prompt)\n",
    "    return response\n",
    "\n",
    "df['response'] = df['review_text'].apply(review_response)\n",
    "display(df)"
   ]
  },
  {
   "cell_type": "code",
   "execution_count": null,
   "metadata": {},
   "outputs": [],
   "source": [
    "##show first response\n",
    "print(df['response'][0])"
   ]
  },
  {
   "cell_type": "code",
   "execution_count": null,
   "metadata": {},
   "outputs": [],
   "source": []
  }
 ],
 "metadata": {
  "kernelspec": {
   "display_name": "hexcode-workshop",
   "language": "python",
   "name": "python3"
  },
  "language_info": {
   "codemirror_mode": {
    "name": "ipython",
    "version": 3
   },
   "file_extension": ".py",
   "mimetype": "text/x-python",
   "name": "python",
   "nbconvert_exporter": "python",
   "pygments_lexer": "ipython3",
   "version": "3.11.2"
  }
 },
 "nbformat": 4,
 "nbformat_minor": 2
}
