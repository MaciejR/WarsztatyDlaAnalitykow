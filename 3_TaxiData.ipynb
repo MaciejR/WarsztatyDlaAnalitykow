{
 "cells": [
  {
   "cell_type": "code",
   "execution_count": 6,
   "metadata": {},
   "outputs": [],
   "source": [
    "import os\n",
    "import pandas\n",
    "from openai import AzureOpenAI\n",
    " \n",
    "\n"
   ]
  },
  {
   "cell_type": "code",
   "execution_count": 53,
   "metadata": {},
   "outputs": [
    {
     "name": "stdout",
     "output_type": "stream",
     "text": [
      "ChatCompletion(id='chatcmpl-9SB49R1RHDYy9BG6kFzPiWMeIFmr4', choices=[Choice(finish_reason='stop', index=0, logprobs=None, message=ChatCompletionMessage(content='Within the context of an opinion mining service, the DRI or Directly Responsible Individual refers to the person who has been tasked with managing and overseeing the specific service. This includes ensuring that the service operates correctly, dealing with any issues that arise, and making necessary improvements or adjustments. The DRI is the main point of contact for the service.', role='assistant', function_call=None, tool_calls=None), content_filter_results={'hate': {'filtered': False, 'severity': 'safe'}, 'self_harm': {'filtered': False, 'severity': 'safe'}, 'sexual': {'filtered': False, 'severity': 'safe'}, 'violence': {'filtered': False, 'severity': 'safe'}})], created=1716502749, model='gpt-4', object='chat.completion', system_fingerprint=None, usage=CompletionUsage(completion_tokens=69, prompt_tokens=43, total_tokens=112), prompt_filter_results=[{'prompt_index': 0, 'content_filter_results': {'hate': {'filtered': False, 'severity': 'safe'}, 'self_harm': {'filtered': False, 'severity': 'safe'}, 'sexual': {'filtered': False, 'severity': 'safe'}, 'violence': {'filtered': False, 'severity': 'safe'}}}])\n"
     ]
    }
   ],
   "source": [
    "client = AzureOpenAI(\n",
    "    api_key=\"798788351cf4428fa4fa1b32894b4ef9\" ,  \n",
    "    api_version=\"2024-02-01\",\n",
    "    azure_endpoint = \"https://gptservice0323.openai.azure.com/\"\n",
    "    )\n",
    "      "
   ]
  },
  {
   "cell_type": "code",
   "execution_count": 66,
   "metadata": {},
   "outputs": [],
   "source": [
    "def ask_gpt4(prompt, assistant_content=\"You are a helpful assistant\",debug=False):\n",
    "    completion = client.chat.completions.create(\n",
    "        model=\"GPT4analitycsworkshop\",\n",
    "        messages=[\n",
    "            {\n",
    "                \"role\": \"user\",\n",
    "                \"content\": prompt,\n",
    "            },\n",
    "            {\n",
    "                \"role\": \"assistant\",\n",
    "                \"content\": assistant_content,\n",
    "            }\n",
    "        ],\n",
    "    )\n",
    "    if debug:\n",
    "        print(completion)\n",
    "        print(completion.choices[0].message.content)\n",
    "    return completion.choices[0].message.content"
   ]
  },
  {
   "cell_type": "code",
   "execution_count": 1,
   "metadata": {},
   "outputs": [
    {
     "data": {
      "text/html": [
       "<div>\n",
       "<style scoped>\n",
       "    .dataframe tbody tr th:only-of-type {\n",
       "        vertical-align: middle;\n",
       "    }\n",
       "\n",
       "    .dataframe tbody tr th {\n",
       "        vertical-align: top;\n",
       "    }\n",
       "\n",
       "    .dataframe thead th {\n",
       "        text-align: right;\n",
       "    }\n",
       "</style>\n",
       "<table border=\"1\" class=\"dataframe\">\n",
       "  <thead>\n",
       "    <tr style=\"text-align: right;\">\n",
       "      <th></th>\n",
       "      <th>vendorid</th>\n",
       "      <th>pickup_datetime</th>\n",
       "      <th>dropoff_datetime</th>\n",
       "      <th>Store_and_fwd_flag</th>\n",
       "      <th>rate_code</th>\n",
       "      <th>Pickup_longitude</th>\n",
       "      <th>Pickup_latitude</th>\n",
       "      <th>Dropoff_longitude</th>\n",
       "      <th>Dropoff_latitude</th>\n",
       "      <th>Passenger_count</th>\n",
       "      <th>...</th>\n",
       "      <th>Fare_amount</th>\n",
       "      <th>Extra</th>\n",
       "      <th>MTA_tax</th>\n",
       "      <th>Tip_amount</th>\n",
       "      <th>Tolls_amount</th>\n",
       "      <th>Ehail_fee</th>\n",
       "      <th>Improvement_surcharge</th>\n",
       "      <th>Total_amount</th>\n",
       "      <th>Payment_type</th>\n",
       "      <th>Trip_type</th>\n",
       "    </tr>\n",
       "  </thead>\n",
       "  <tbody>\n",
       "    <tr>\n",
       "      <th>17426621</th>\n",
       "      <td>2</td>\n",
       "      <td>08/15/2015 07:26:47 PM</td>\n",
       "      <td>08/15/2015 07:31:33 PM</td>\n",
       "      <td>N</td>\n",
       "      <td>1</td>\n",
       "      <td>-73.936775</td>\n",
       "      <td>40.764664</td>\n",
       "      <td>-73.936882</td>\n",
       "      <td>40.764572</td>\n",
       "      <td>1</td>\n",
       "      <td>...</td>\n",
       "      <td>3.0</td>\n",
       "      <td>0.5</td>\n",
       "      <td>0.5</td>\n",
       "      <td>0.0</td>\n",
       "      <td>0.0</td>\n",
       "      <td>NaN</td>\n",
       "      <td>0.3</td>\n",
       "      <td>4.3</td>\n",
       "      <td>2</td>\n",
       "      <td>1.0</td>\n",
       "    </tr>\n",
       "    <tr>\n",
       "      <th>5518723</th>\n",
       "      <td>1</td>\n",
       "      <td>08/10/2015 12:13:56 AM</td>\n",
       "      <td>08/10/2015 12:33:35 AM</td>\n",
       "      <td>N</td>\n",
       "      <td>1</td>\n",
       "      <td>-73.890556</td>\n",
       "      <td>40.746677</td>\n",
       "      <td>-73.920639</td>\n",
       "      <td>40.830711</td>\n",
       "      <td>2</td>\n",
       "      <td>...</td>\n",
       "      <td>25.5</td>\n",
       "      <td>0.5</td>\n",
       "      <td>0.5</td>\n",
       "      <td>0.0</td>\n",
       "      <td>0.0</td>\n",
       "      <td>NaN</td>\n",
       "      <td>0.3</td>\n",
       "      <td>26.8</td>\n",
       "      <td>2</td>\n",
       "      <td>1.0</td>\n",
       "    </tr>\n",
       "    <tr>\n",
       "      <th>12241785</th>\n",
       "      <td>2</td>\n",
       "      <td>09/08/2015 12:15:01 AM</td>\n",
       "      <td>09/08/2015 12:20:24 AM</td>\n",
       "      <td>N</td>\n",
       "      <td>1</td>\n",
       "      <td>-73.956619</td>\n",
       "      <td>40.716885</td>\n",
       "      <td>-73.944862</td>\n",
       "      <td>40.727245</td>\n",
       "      <td>2</td>\n",
       "      <td>...</td>\n",
       "      <td>6.0</td>\n",
       "      <td>0.5</td>\n",
       "      <td>0.5</td>\n",
       "      <td>0.0</td>\n",
       "      <td>0.0</td>\n",
       "      <td>NaN</td>\n",
       "      <td>0.3</td>\n",
       "      <td>7.3</td>\n",
       "      <td>2</td>\n",
       "      <td>1.0</td>\n",
       "    </tr>\n",
       "    <tr>\n",
       "      <th>4594183</th>\n",
       "      <td>2</td>\n",
       "      <td>01/14/2015 06:19:36 PM</td>\n",
       "      <td>01/14/2015 06:38:57 PM</td>\n",
       "      <td>N</td>\n",
       "      <td>1</td>\n",
       "      <td>-73.945328</td>\n",
       "      <td>40.807999</td>\n",
       "      <td>-73.922935</td>\n",
       "      <td>40.864681</td>\n",
       "      <td>1</td>\n",
       "      <td>...</td>\n",
       "      <td>19.0</td>\n",
       "      <td>1.0</td>\n",
       "      <td>0.5</td>\n",
       "      <td>0.0</td>\n",
       "      <td>0.0</td>\n",
       "      <td>NaN</td>\n",
       "      <td>0.3</td>\n",
       "      <td>20.8</td>\n",
       "      <td>1</td>\n",
       "      <td>1.0</td>\n",
       "    </tr>\n",
       "    <tr>\n",
       "      <th>1103508</th>\n",
       "      <td>2</td>\n",
       "      <td>02/21/2015 07:48:13 PM</td>\n",
       "      <td>02/21/2015 08:16:57 PM</td>\n",
       "      <td>N</td>\n",
       "      <td>1</td>\n",
       "      <td>-73.977623</td>\n",
       "      <td>40.687634</td>\n",
       "      <td>-73.984566</td>\n",
       "      <td>40.736736</td>\n",
       "      <td>1</td>\n",
       "      <td>...</td>\n",
       "      <td>18.5</td>\n",
       "      <td>0.0</td>\n",
       "      <td>0.5</td>\n",
       "      <td>0.0</td>\n",
       "      <td>0.0</td>\n",
       "      <td>NaN</td>\n",
       "      <td>0.3</td>\n",
       "      <td>19.3</td>\n",
       "      <td>1</td>\n",
       "      <td>1.0</td>\n",
       "    </tr>\n",
       "  </tbody>\n",
       "</table>\n",
       "<p>5 rows × 21 columns</p>\n",
       "</div>"
      ],
      "text/plain": [
       "          vendorid         pickup_datetime        dropoff_datetime  \\\n",
       "17426621         2  08/15/2015 07:26:47 PM  08/15/2015 07:31:33 PM   \n",
       "5518723          1  08/10/2015 12:13:56 AM  08/10/2015 12:33:35 AM   \n",
       "12241785         2  09/08/2015 12:15:01 AM  09/08/2015 12:20:24 AM   \n",
       "4594183          2  01/14/2015 06:19:36 PM  01/14/2015 06:38:57 PM   \n",
       "1103508          2  02/21/2015 07:48:13 PM  02/21/2015 08:16:57 PM   \n",
       "\n",
       "         Store_and_fwd_flag  rate_code  Pickup_longitude  Pickup_latitude  \\\n",
       "17426621                  N          1        -73.936775        40.764664   \n",
       "5518723                   N          1        -73.890556        40.746677   \n",
       "12241785                  N          1        -73.956619        40.716885   \n",
       "4594183                   N          1        -73.945328        40.807999   \n",
       "1103508                   N          1        -73.977623        40.687634   \n",
       "\n",
       "          Dropoff_longitude  Dropoff_latitude  Passenger_count  ...  \\\n",
       "17426621         -73.936882         40.764572                1  ...   \n",
       "5518723          -73.920639         40.830711                2  ...   \n",
       "12241785         -73.944862         40.727245                2  ...   \n",
       "4594183          -73.922935         40.864681                1  ...   \n",
       "1103508          -73.984566         40.736736                1  ...   \n",
       "\n",
       "          Fare_amount  Extra  MTA_tax  Tip_amount  Tolls_amount  Ehail_fee  \\\n",
       "17426621          3.0    0.5      0.5         0.0           0.0        NaN   \n",
       "5518723          25.5    0.5      0.5         0.0           0.0        NaN   \n",
       "12241785          6.0    0.5      0.5         0.0           0.0        NaN   \n",
       "4594183          19.0    1.0      0.5         0.0           0.0        NaN   \n",
       "1103508          18.5    0.0      0.5         0.0           0.0        NaN   \n",
       "\n",
       "          Improvement_surcharge  Total_amount  Payment_type  Trip_type  \n",
       "17426621                    0.3           4.3             2        1.0  \n",
       "5518723                     0.3          26.8             2        1.0  \n",
       "12241785                    0.3           7.3             2        1.0  \n",
       "4594183                     0.3          20.8             1        1.0  \n",
       "1103508                     0.3          19.3             1        1.0  \n",
       "\n",
       "[5 rows x 21 columns]"
      ]
     },
     "metadata": {},
     "output_type": "display_data"
    }
   ],
   "source": [
    "import pandas as pd\n",
    "\n",
    "# Read the CSV file\n",
    "df = pd.read_csv('2015_Green_Taxi_Trip_Data.csv')\n",
    "\n",
    "# Display the dataframe\n",
    "display(df.sample(5))"
   ]
  },
  {
   "cell_type": "code",
   "execution_count": 11,
   "metadata": {},
   "outputs": [],
   "source": [
    "# Take a small sample of your data\n",
    "sample = df.sample(5)\n",
    "\n",
    "# Convert the sample to a text format\n",
    "sample_text = sample.to_string(index=False)\n",
    "\n",
    "# Formulate a question that includes the sample data\n",
    "question = f\"I have a sample of taxi data:\\n\\n{sample_text}\\n\\nWhat insights can I draw from this data?\"\n"
   ]
  },
  {
   "cell_type": "code",
   "execution_count": 12,
   "metadata": {},
   "outputs": [
    {
     "name": "stdout",
     "output_type": "stream",
     "text": [
      "Question: I have a sample of taxi data:\n",
      "\n",
      " vendorid        pickup_datetime       dropoff_datetime Store_and_fwd_flag  rate_code  Pickup_longitude  Pickup_latitude  Dropoff_longitude  Dropoff_latitude  Passenger_count  Trip_distance  Fare_amount  Extra  MTA_tax  Tip_amount  Tolls_amount  Ehail_fee  Improvement_surcharge  Total_amount  Payment_type  Trip_type\n",
      "        2 03/28/2015 06:15:39 AM 03/28/2015 06:25:48 AM                  N          1        -73.956100        40.813015         -73.954689         40.766476                1           4.61         14.5    0.0      0.5        0.00           0.0        NaN                    0.3         15.30             2        1.0\n",
      "        2 11/09/2015 05:27:47 AM 11/09/2015 05:54:24 AM                  N          1        -73.959145        40.684433         -73.789909         40.646915                1          17.07         46.0    0.5      0.5       14.19           0.0        NaN                    0.3         61.49             1        1.0\n",
      "        2 09/27/2015 09:40:22 AM 09/27/2015 09:55:24 AM                  N          1        -73.964149        40.694263         -74.006775         40.730377                1           4.36         15.0    0.0      0.5        3.16           0.0        NaN                    0.3         18.96             1        1.0\n",
      "        2 12/12/2015 09:32:28 PM 12/12/2015 09:41:36 PM                  N          1        -73.950912        40.785908         -73.957184         40.804577                1           1.94          9.0    0.5      0.5        2.06           0.0        NaN                    0.3         12.36             1        1.0\n",
      "        2 01/14/2015 08:43:27 PM 01/14/2015 08:55:14 PM                  N          1        -73.982643        40.682888         -73.980835         40.661480                1           2.22         10.5    0.5      0.5        2.20           0.0        NaN                    0.3         14.00             1        1.0\n",
      "\n",
      "What insights can I draw from this data?\n",
      "Answer: 1. Vendor Efficiency: You can figure out which taxi vendors are operating most trips using the vendorid. \n",
      "\n",
      "2. Peak Hours: You can explore what time/days taxis are most in demand by analyzing the pickup/dropoff times.\n",
      "\n",
      "3. Route Analysis: Utilizing pickup and dropoff locations, you can get insights into the most commonly serviced routes.\n",
      "\n",
      "4. Payment Type: Check which payment methods are most popular among customers.\n",
      "\n",
      "5. Fare Analysis: Determine the average or most common fare amount for taxi rides. You should also analyze how these fares vary across different times of day, locations, or amongst other parameters.\n",
      "\n",
      "6. Tip Analysis: Identify if there is a pattern in tips given, how they correlate to fare amounts and if they vary with payment type or other factors.\n",
      "\n",
      "7. Passenger Count: Analyze whether trips with more passengers have an effect on fare amount, tip amount, distance traveled, etc.\n",
      "\n",
      "8. Tax and Extra Charges: Look into how much of the total amount is actually constituted by extra charges including MTA_tax, Tolls_amount, Improvement_surcharge etc.\n",
      "\n",
      "9. Distance Relationship: Analyze the relationship between trip distance and fare amount. \n",
      "\n",
      "10. Duration of Trip: Calculate the duration of trips from pickup and dropoff times to understand relation between trip duration and fare, or relation between duration and distance.\n",
      "\n",
      "Remember, these are just suggestions. Depending on your area of interest (profitability, efficiency, customer behavior study etc), there could be numerous other insights you could derive from this data.\n"
     ]
    }
   ],
   "source": [
    "# Ask GPT-4 the question\n",
    "print(f\"Question: {question}\")\n",
    "print(f\"Answer: {ask_gpt4(question)}\")"
   ]
  },
  {
   "cell_type": "code",
   "execution_count": 14,
   "metadata": {},
   "outputs": [],
   "source": [
    "sample_assistant_prompt =  f\"I have a sample of taxi data:\\n\\n{sample_text}\\n\\n. You are a helpful assistant that helps to gain insights from data?\"\n",
    "question = \"How to analyze which taxi vendors are operating most trips?\"\n"
   ]
  },
  {
   "cell_type": "code",
   "execution_count": 16,
   "metadata": {},
   "outputs": [
    {
     "name": "stdout",
     "output_type": "stream",
     "text": [
      "Certainly! You could analyze which taxi vendors are operating the most trips. Here are the steps for analyzing data using Python and pandas in this context:\n",
      "\n",
      "1. Import the necessary pandas library:\n",
      "\n",
      "```python\n",
      "   import pandas as pd\n",
      "```\n",
      "\n",
      "2. Load the data into the pandas DataFrame:\n",
      "\n",
      "```python\n",
      "   df = pd.read_csv('path_to_your_file.csv')\n",
      "```\n",
      "\n",
      "3. Count the number of trips by each vendor:\n",
      "\n",
      "```python\n",
      "   vendor_trips = df['vendorid'].value_counts()\n",
      "```\n",
      "\n",
      "4. Print the result:\n",
      "\n",
      "```python\n",
      "   print(vendor_trips)\n",
      "```\n",
      "\n",
      "This will give you an output of the vendor IDs along with the number of trips each one has accumulated in descending order of frequency.\n",
      "\n",
      "Alternatively, if you need insights/analysis on the basis of payments done to vendors, you can aggregate the 'Total_amount' column against each vendor. \n",
      "\n",
      "```python\n",
      "   vendor_payments = df.groupby('vendorid')['Total_amount'].sum()\n",
      "```\n",
      "\n",
      "and then,\n",
      "\n",
      "```python\n",
      "   print(vendor_payments)\n",
      "```\n",
      "\n",
      "This will give you the total payment done to each vendor.\n",
      "\n",
      "Just replace 'path_to_your_file.csv' with the path to the CSV file that contains your data.\n"
     ]
    }
   ],
   "source": [
    "print(ask_gpt4(question, assistant_content=sample_assistant_prompt))"
   ]
  },
  {
   "cell_type": "code",
   "execution_count": 17,
   "metadata": {},
   "outputs": [
    {
     "name": "stdout",
     "output_type": "stream",
     "text": [
      "To analyze which taxi vendors are operating the most trips, we can use the pandas library in Python, here's how:\n",
      "\n",
      "First, load the data into a pandas Dataframe:\n",
      "```python\n",
      "import pandas as pd\n",
      "\n",
      "# Replace 'data.csv' with your actual csv file path\n",
      "data = pd.read_csv('data.csv')\n",
      "```\n",
      "\n",
      "Then, calculate the number of trips each vendor has made:\n",
      "```python\n",
      "vendor_trips = data['vendorid'].value_counts()\n",
      "```\n",
      "\n",
      "'Value_counts' function returns a series containing counts of unique values in descending order so that the first element is the most frequently-occurring element. It excludes NA values by default.\n",
      "\n",
      "`vendor_trips` variable now contains the number of trips each vendor has made, with vendor id as the index.\n",
      "\n",
      "To display the vendor operating the most trips:\n",
      "```python\n",
      "most_operating_vendor = vendor_trips.idxmax()\n",
      "print(f\"The vendor operating the most trips is: {most_operating_vendor}\")\n",
      "```\n",
      "\n",
      "Please replace 'vendorid' with the actual name of your vendor id column if it needs.\n"
     ]
    }
   ],
   "source": [
    "sample_assistant_prompt =  f\"I have a sample of taxi data:\\n\\n{sample_text}\\n\\n. You are a helpful assistant that helps to gain insights from data. Your response is Python code\"\n",
    "question = \"How to analyze which taxi vendors are operating most trips?\"\n",
    "print(ask_gpt4(question, assistant_content=sample_assistant_prompt))"
   ]
  },
  {
   "cell_type": "code",
   "execution_count": 18,
   "metadata": {},
   "outputs": [
    {
     "name": "stdout",
     "output_type": "stream",
     "text": [
      "The data appears to be in a tabular format with a column called `vendorid`. Here is how you could analyze which taxi vendors are operating most trips using Python with the pandas library:\n",
      "\n",
      "```python\n",
      "import pandas as pd\n",
      "\n",
      "# Assuming the data is in a csv file 'taxi_data.csv'\n",
      "df = pd.read_csv('taxi_data.csv')\n",
      "\n",
      "# Count the number of trips made by each vendor\n",
      "trip_counts_by_vendor = df['vendorid'].value_counts()\n",
      "\n",
      "print(trip_counts_by_vendor)\n",
      "```\n",
      "\n",
      "This will print out a table showing the vendorid and number of trips. The vendorid with most trips will be at the top.\n"
     ]
    }
   ],
   "source": [
    "sample_assistant_prompt =  f\"I have a sample of taxi data:\\n\\n{sample_text}\\n\\n. You are a helpful assistant that helps to gain insights from data. Your response is Python code and only Python code, withou any comments in natural language\"\n",
    "question = \"How to analyze which taxi vendors are operating most trips?\"\n",
    "print(ask_gpt4(question, assistant_content=sample_assistant_prompt))"
   ]
  },
  {
   "cell_type": "code",
   "execution_count": 20,
   "metadata": {},
   "outputs": [
    {
     "name": "stdout",
     "output_type": "stream",
     "text": [
      "2    15022037\n",
      "1     4211728\n",
      "Name: vendorid, dtype: int64\n"
     ]
    }
   ],
   "source": [
    "\n",
    "import pandas as pd\n",
    "\n",
    "# Count the number of trips made by each vendor\n",
    "trip_counts_by_vendor = df['vendorid'].value_counts()\n",
    "\n",
    "print(trip_counts_by_vendor)"
   ]
  },
  {
   "cell_type": "code",
   "execution_count": 22,
   "metadata": {},
   "outputs": [
    {
     "name": "stdout",
     "output_type": "stream",
     "text": [
      "Based on the given data, the most anomalous trip seems to be the one that occurred on 01/01/2015 at 3:13:15 AM. This trip is anomalous because it has over 16 miles marked for the trip distance, which is significantly higher compared to the other trips. Additionally, this trip does not have any extra charges or tolls, and yet has a total amount of $51.30, which is quite high in comparison to the fare amounts of other trips of similar (or even larger) distance.\n"
     ]
    }
   ],
   "source": [
    "# Take a small sample of your data\n",
    "sample = df.sample(50)\n",
    "\n",
    "# Convert the sample to a text format\n",
    "sample_text = sample.to_string(index=False)\n",
    "\n",
    "sample_assistant_prompt =  f\"I have a sample of taxi data:\\n\\n{sample_text}\\n\\n. You are a helpful assistant that helps to gain insights from data.e\"\n",
    "question = \"Which trip is most anomalous in the sample data?\"\n",
    "print(ask_gpt4(question, assistant_content=sample_assistant_prompt))"
   ]
  },
  {
   "cell_type": "code",
   "execution_count": 24,
   "metadata": {},
   "outputs": [
    {
     "name": "stdout",
     "output_type": "stream",
     "text": [
      "As a language model AI, I'm not capable of doing calculations and extracting insights directly from the provided data in the traditional sense. However, I can tell you that to find the average trip distance, you would need to sum up all the values in the 'Trip_distance' column and then divide by the total number of trips. In other words, it's the total trip distance divided by the total number of trips.\n",
      "\n",
      "Practically it would look something like this in Python with the use of pandas library:\n",
      "\n",
      "```python\n",
      "import pandas as pd\n",
      "\n",
      "# Assuming 'df' is your DataFrame and 'Trip_distance' is the column of interest\n",
      "average_trip_distance = df['Trip_distance'].mean()\n",
      "print(f'The average trip distance is: {average_trip_distance}')\n",
      "```\n",
      "\n",
      "But for accurate results, you would need to replace 'df' with your actual DataFrame's name.\n",
      "\n"
     ]
    }
   ],
   "source": [
    "question = \"What is the average trip distance?\"\n",
    "print(ask_gpt4(question, assistant_content=sample_assistant_prompt))"
   ]
  },
  {
   "cell_type": "code",
   "execution_count": 31,
   "metadata": {},
   "outputs": [
    {
     "name": "stdout",
     "output_type": "stream",
     "text": [
      "The average trip distance is: 3.5296000000000003\n",
      "The maximum trip distance is: 16.33\n"
     ]
    },
    {
     "data": {
      "image/png": "[encoded data removed]",
      "text/plain": [
       "<Figure size 640x480 with 1 Axes>"
      ]
     },
     "metadata": {},
     "output_type": "display_data"
    }
   ],
   "source": [
    "import pandas as pd\n",
    "\n",
    "df = sample\n",
    "# Assuming 'df' is your DataFrame and 'Trip_distance' is the column of interest\n",
    "average_trip_distance = df['Trip_distance'].mean()\n",
    "print(f'The average trip distance is: {average_trip_distance}')\n",
    "\n",
    "## find anomalous trip\n",
    "# Find the trip with the maximum trip distance\n",
    "max_trip_distance = df['Trip_distance'].max()\n",
    "print(f'The maximum trip distance is: {max_trip_distance}')\n",
    "\n",
    "## plot trip distribution\n",
    "import matplotlib.pyplot as plt\n",
    "\n",
    "# Plot the distribution of trip distances\n",
    "df['Trip_distance'].plot.hist(bins=100)\n",
    "plt.xlabel('Trip distance')\n",
    "plt.ylabel('Frequency')\n",
    "plt.title('Distribution of trip distances')\n",
    "\n",
    "# Display the plot\n",
    "plt.show()\n",
    "\n",
    "\n"
   ]
  },
  {
   "cell_type": "code",
   "execution_count": 32,
   "metadata": {},
   "outputs": [
    {
     "name": "stdout",
     "output_type": "stream",
     "text": [
      "Trip_distance\n",
      "(0, 10]     48\n",
      "(10, 20]     2\n",
      "(20, 30]     0\n",
      "(30, 40]     0\n",
      "(40, 50]     0\n",
      "(50, 60]     0\n",
      "(60, 70]     0\n",
      "(70, 80]     0\n",
      "(80, 90]     0\n",
      "dtype: int64\n"
     ]
    }
   ],
   "source": [
    "### groupby trip distance boxed to 10 miles and show count\n",
    "# Group the data by trip distance\n",
    "\n",
    "trip_distance_groups = df.groupby(pd.cut(df['Trip_distance'], bins=range(0, 100, 10)))\n",
    "\n",
    "# Count the number of trips in each group\n",
    "trip_distance_counts = trip_distance_groups.size()\n",
    "\n",
    "print(trip_distance_counts)\n"
   ]
  },
  {
   "cell_type": "code",
   "execution_count": 36,
   "metadata": {},
   "outputs": [
    {
     "name": "stdout",
     "output_type": "stream",
     "text": [
      " vendorid        pickup_datetime       dropoff_datetime Store_and_fwd_flag  rate_code  Pickup_longitude  Pickup_latitude  Dropoff_longitude  Dropoff_latitude  Passenger_count  Trip_distance  Fare_amount  Extra  MTA_tax  Tip_amount  Tolls_amount  Ehail_fee  Improvement_surcharge  Total_amount  Payment_type  Trip_type\n",
      "        2 11/20/2015 10:10:53 PM 11/20/2015 10:37:41 PM                  N          5        -73.994698        40.703667         -73.988998         40.746620                3           6.24         34.0    0.0      0.0        0.00           0.0        NaN                    0.0         34.00             2        2.0\n",
      "        2 06/26/2015 03:06:42 PM 06/26/2015 03:24:45 PM                  N          1        -73.946877        40.808426         -73.913467         40.838799                1           3.21         14.5    0.0      0.5        0.00           0.0        NaN                    0.3         15.30             1        1.0\n",
      "        2 11/27/2015 12:16:35 AM 11/27/2015 12:29:09 AM                  N          1        -73.955803        40.649021         -73.997749         40.643864                3           2.79         11.5    0.5      0.5        0.00           0.0        NaN                    0.3         12.80             2        1.0\n",
      "        2 07/24/2015 12:18:36 PM 07/24/2015 12:37:30 PM                  N          1        -73.942055        40.803848         -73.963135         40.798504                1           1.90         13.0    0.0      0.5        0.00           0.0        NaN                    0.3         13.80             2        1.0\n",
      "        2 11/12/2015 12:09:38 AM 11/12/2015 12:24:19 AM                  N          1        -73.904129        40.753677         -73.875702         40.746258                1           2.10         11.0    0.5      0.5        0.00           0.0        NaN                    0.3         12.30             2        1.0\n",
      "        2 07/31/2015 10:21:11 PM 07/31/2015 10:25:31 PM                  N          1        -73.910263        40.775833         -73.893188         40.772171                1           1.37          6.0    0.5      0.5        1.46           0.0        NaN                    0.3          8.76             1        1.0\n",
      "        2 09/07/2015 06:14:09 PM 09/07/2015 06:31:50 PM                  N          1        -73.937141        40.855103         -73.979256         40.784657                1           5.99         20.0    0.0      0.5        4.00           0.0        NaN                    0.3         24.80             1        1.0\n",
      "        2 12/12/2015 07:51:20 PM 12/12/2015 08:13:01 PM                  N          1        -73.979805        40.677345         -73.949829         40.681793                2           2.31         15.0    0.0      0.5        0.00           0.0        NaN                    0.3         15.80             2        1.0\n",
      "        1 07/31/2015 10:12:34 AM 07/31/2015 10:27:26 AM                  N          1        -73.981071        40.701244         -73.991409         40.693974                1           1.20         10.5    0.0      0.5        0.00           0.0        NaN                    0.3         11.30             3        1.0\n",
      "        2 07/30/2015 01:28:46 PM 07/30/2015 01:54:17 PM                  N          1        -73.962143        40.805344         -73.995010         40.754532                1           5.49         21.0    0.0      0.5        0.00           0.0        NaN                    0.3         21.80             2        1.0\n",
      "        2 01/31/2015 04:06:44 PM 01/31/2015 04:21:31 PM                  N          1        -74.010338        40.671963         -73.953697         40.720116                1           6.36         19.0    0.0      0.5        4.75           0.0        NaN                    0.3         24.55             1        1.0\n",
      "        2 12/19/2015 11:26:04 PM 12/19/2015 11:31:14 PM                  N          1        -73.942474        40.794804         -73.956985         40.782833                1           1.37          6.5    0.5      0.5        1.95           0.0        NaN                    0.3          9.75             1        1.0\n",
      "        2 01/24/2015 11:02:10 PM 01/24/2015 11:08:20 PM                  N          1        -73.862999        40.730579         -73.881325         40.736633                5           1.40          7.0    0.5      0.5        0.00           0.0        NaN                    0.3          8.30             2        1.0\n",
      "        1 04/11/2015 09:14:06 PM 04/11/2015 09:21:23 PM                  N          1        -73.844383        40.721561         -73.848381         40.726189                1           0.90          6.5    0.5      0.5        0.00           0.0        NaN                    0.3          7.80             2        1.0\n",
      "        1 06/11/2015 07:20:56 AM 06/11/2015 07:33:24 AM                  N          1        -73.958183        40.647217         -73.968704         40.632153                2           2.20         10.5    0.0      0.5        0.00           0.0        NaN                    0.3         11.30             1        1.0\n",
      "        2 05/12/2015 04:33:30 PM 05/12/2015 04:38:21 PM                  N          1        -73.861504        40.730064         -73.851845         40.732143                1           0.68          5.5    1.0      0.5        1.46           0.0        NaN                    0.3          8.76             1        1.0\n",
      "        2 03/11/2015 11:06:55 PM 03/11/2015 11:13:58 PM                  N          1        -73.949158        40.714111         -73.983276         40.696266                1           2.85         10.0    0.5      0.5        2.26           0.0        NaN                    0.3         13.56             1        1.0\n",
      "        1 12/30/2015 09:09:36 PM 12/30/2015 09:15:18 PM                  N          1        -73.884239        40.747711         -73.878868         40.756069                1           0.90          5.5    0.5      0.5        0.00           0.0        NaN                    0.3          6.80             2        1.0\n",
      "        2 05/07/2015 10:27:41 AM 05/07/2015 11:05:42 AM                  N          1        -73.956284        40.803143         -73.970078         40.759460                1           3.77         23.5    0.0      0.5        4.86           0.0        NaN                    0.3         29.16             1        1.0\n",
      "        2 08/07/2015 11:08:39 AM 08/07/2015 11:25:33 AM                  N          1        -73.881905        40.755993         -73.938629         40.750088                1           3.04         13.5    0.0      0.5        0.00           0.0        NaN                    0.3         14.30             2        1.0\n",
      "        2 12/23/2015 04:02:26 PM 12/23/2015 04:26:13 PM                  N          1        -73.920197        40.826057         -73.888016         40.828094                5           2.70         16.0    1.0      0.5        0.00           0.0        NaN                    0.3         17.80             2        1.0\n",
      "        2 02/20/2015 10:56:39 PM 02/20/2015 11:04:02 PM                  N          1        -73.955246        40.735855         -73.955299         40.724651                3           1.26          7.0    0.5      0.5        0.00           0.0        NaN                    0.3          8.30             2        1.0\n",
      "        2 01/16/2015 08:14:17 AM 01/16/2015 08:28:01 AM                  N          1        -73.952499        40.789433         -73.962120         40.805241                1           1.72         10.5    0.0      0.5        2.10           0.0        NaN                    0.3         13.40             1        1.0\n",
      "        2 05/22/2015 08:18:42 PM 05/22/2015 08:33:58 PM                  N          1        -73.919182        40.759083         -73.907829         40.744358                5           2.15         11.5    0.5      0.5        0.00           0.0        NaN                    0.3         12.80             2        1.0\n",
      "        1 06/28/2015 08:02:57 PM 06/28/2015 08:09:08 PM                  N          1        -73.935677        40.795937         -73.954887         40.804390                1           1.20          6.5    0.5      0.5        0.00           0.0        NaN                    0.3          7.80             4        1.0\n",
      "        2 12/05/2015 03:27:20 PM 12/05/2015 03:31:21 PM                  N          1        -73.946236        40.749920         -73.941475         40.756222                1           0.54          4.5    0.0      0.5        0.00           0.0        NaN                    0.3          5.30             2        1.0\n",
      "        2 10/23/2015 07:31:17 PM 10/23/2015 07:51:06 PM                  N          1        -73.951950        40.725388         -73.953049         40.673649                1           4.37         17.0    1.0      0.5        3.76           0.0        NaN                    0.3         22.56             1        1.0\n",
      "        2 07/18/2015 01:00:49 AM 07/18/2015 01:04:21 AM                  N          1        -73.890755        40.746468         -73.896820         40.738419                1           0.87          5.0    0.5      0.5        0.00           0.0        NaN                    0.3          6.30             2        1.0\n",
      "        2 10/24/2015 11:55:46 AM 10/24/2015 12:13:54 PM                  N          1        -73.952660        40.789150         -73.914474         40.805721                1           3.27         14.5    0.0      0.5        0.00           0.0        NaN                    0.3         15.30             2        1.0\n",
      "        2 10/03/2015 04:41:10 PM 10/03/2015 05:09:51 PM                  N          1        -73.964546        40.715694         -73.959541         40.764301                6           6.20         23.5    0.0      0.5        0.00           0.0        NaN                    0.3         24.30             2        1.0\n",
      "        2 06/04/2015 01:38:14 AM 06/04/2015 01:43:43 AM                  N          1        -73.947487        40.711273         -73.931213         40.703888                5           1.37          6.5    0.5      0.5        1.56           0.0        NaN                    0.3          9.36             1        1.0\n",
      "        2 04/26/2015 11:00:28 AM 04/26/2015 11:20:44 AM                  N          1        -73.945587        40.693558         -73.906853         40.769417                1           8.28         26.0    0.0      0.5        5.36           0.0        NaN                    0.3         32.16             1        1.0\n",
      "        2 06/11/2015 02:28:01 PM 06/11/2015 02:34:35 PM                  N          1        -73.830215        40.713730         -73.826424         40.708004                1           0.66          6.0    0.0      0.5        0.00           0.0        NaN                    0.3          6.80             2        1.0\n",
      "        2 05/09/2015 04:50:18 PM 05/09/2015 05:01:45 PM                  N          1        -73.973030        40.673367         -73.962067         40.688622                1           2.14         10.5    0.0      0.5        1.50           0.0        NaN                    0.3         12.80             1        1.0\n",
      "        1 06/30/2015 09:36:57 PM 06/30/2015 09:52:44 PM                  N          1        -73.869194        40.734371         -73.864563         40.691772                1           4.10         15.5    0.5      0.5        0.00           0.0        NaN                    0.3         16.80             2        1.0\n",
      "        2 07/08/2015 10:24:19 AM 07/08/2015 10:35:26 AM                  N          1        -73.992256        40.689865         -74.019348         40.677090                1           2.08          9.5    0.0      0.5        0.00           0.0        NaN                    0.3         10.30             2        1.0\n",
      "        2 04/04/2015 11:33:30 AM 04/04/2015 12:05:01 PM                  N          1        -73.987312        40.691982         -73.980194         40.575455                1          12.26         39.0    0.0      0.5        7.96           0.0        NaN                    0.3         47.76             1        1.0\n",
      "        2 03/20/2015 05:52:48 PM 03/20/2015 06:34:34 PM                  N          1        -73.893188        40.748802         -73.822853         40.705662                2           8.96         31.5    1.0      0.5        0.00           0.0        NaN                    0.3         33.30             2        1.0\n",
      "        2 04/29/2015 08:47:15 AM 04/29/2015 09:09:55 AM                  N          1        -73.939056        40.790936         -74.010368         40.702019                1           9.05         26.5    0.0      0.5        3.50           0.0        NaN                    0.3         30.80             1        1.0\n",
      "        2 01/01/2015 03:13:15 AM 01/01/2015 03:26:09 AM                  N          1        -73.765182        40.718594         -73.852203         40.726639                1           5.99         18.5    0.5      0.5        3.80           0.0        NaN                    0.0         23.30             1        1.0\n",
      "        1 04/04/2015 09:47:51 AM 04/04/2015 09:52:32 AM                  N          1        -73.940880        40.805771         -73.951881         40.803890                1           1.00          5.5    0.0      0.5        0.00           0.0        NaN                    0.3          6.30             2        1.0\n",
      "        2 11/16/2015 04:11:23 AM 11/16/2015 04:59:58 AM                  N          1        -73.884636        40.747688         -73.817368         40.706081                1          16.33         50.0    0.5      0.5        0.00           0.0        NaN                    0.3         51.30             2        1.0\n",
      "        2 02/18/2015 05:42:33 AM 02/18/2015 06:01:03 AM                  N          1        -73.963531        40.719688         -73.871124         40.774197                1           8.11         24.5    0.5      0.5        5.16           0.0        NaN                    0.3         30.96             1        1.0\n",
      "        1 03/31/2015 10:37:31 AM 03/31/2015 10:43:14 AM                  N          1        -73.886314        40.744507         -73.871895         40.744526                1           1.20          6.0    0.0      0.5        0.00           0.0        NaN                    0.3          6.80             2        1.0\n",
      "        2 03/24/2015 08:22:31 AM 03/24/2015 08:28:47 AM                  N          1        -73.895409        40.768402         -73.911873         40.775291                1           1.11          6.5    0.0      0.5        0.00           0.0        NaN                    0.3          7.30             1        1.0\n",
      "        2 06/23/2015 01:19:36 AM 06/23/2015 01:24:03 AM                  N          1        -73.994240        40.703041         -73.991402         40.691452                1           0.89          5.5    0.5      0.5        0.00           0.0        NaN                    0.3          6.80             2        1.0\n",
      "        2 06/23/2015 01:32:33 AM 06/23/2015 01:52:30 AM                  N          1        -73.981140        40.667347         -73.991646         40.715218                5           4.54         18.0    0.5      0.5        3.86           0.0        NaN                    0.3         23.16             1        1.0\n",
      "        2 01/26/2015 11:36:52 AM 01/26/2015 11:46:52 AM                  N          1        -73.992607        40.689754         -73.967690         40.687885                1           1.56          8.5    0.0      0.5        1.70           0.0        NaN                    0.3         11.00             1        1.0\n",
      "        2 06/27/2015 03:22:24 AM 06/27/2015 03:32:51 AM                  N          1        -73.966225        40.710659         -73.964867         40.683205                1           2.23         10.0    0.5      0.5        2.26           0.0        NaN                    0.3         13.56             1        1.0\n",
      "        2 11/19/2015 09:00:02 AM 11/19/2015 09:39:11 AM                  N          1        -73.947601        40.790298         -73.989189         40.742062                1           4.27         24.5    0.0      0.5        5.06           0.0        NaN                    0.3         30.36             1        1.0\n"
     ]
    }
   ],
   "source": [
    "print(sample_text)"
   ]
  },
  {
   "cell_type": "code",
   "execution_count": 39,
   "metadata": {},
   "outputs": [
    {
     "name": "stdout",
     "output_type": "stream",
     "text": [
      "As an AI, I'm unable to execute code, so I can't calculate the average directly from your data. However, with the provided data, you can calculate the average trip distance using Python pandas library as follows:\n",
      "\n",
      "```python\n",
      "import pandas as pd\n",
      "\n",
      "# assuming data is your dataframe\n",
      "average_trip_distance = data['Trip_distance'].mean()\n",
      "print(average_trip_distance)\n",
      "```\n",
      "\n",
      "This code will calculate the average of the 'Trip_distance' column in the dataframe.\n"
     ]
    }
   ],
   "source": [
    "question = \"What is the average trip distance based on Trip_distance column?\"\n",
    "sample_assistant_prompt =  f\"I have a sample of taxi data:\\n\\n{sample_text}\\n\\n. You are a helpful assistant that helps to gain insights from data\"\n",
    "print(ask_gpt4(question, assistant_content=sample_assistant_prompt))"
   ]
  }
 ],
 "metadata": {
  "kernelspec": {
   "display_name": "hexcode-workshop",
   "language": "python",
   "name": "python3"
  },
  "language_info": {
   "codemirror_mode": {
    "name": "ipython",
    "version": 3
   },
   "file_extension": ".py",
   "mimetype": "text/x-python",
   "name": "python",
   "nbconvert_exporter": "python",
   "pygments_lexer": "ipython3",
   "version": "3.11.2"
  }
 },
 "nbformat": 4,
 "nbformat_minor": 2
}
