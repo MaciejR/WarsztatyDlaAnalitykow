{
 "cells": [
  {
   "cell_type": "code",
   "execution_count": 4,
   "metadata": {},
   "outputs": [],
   "source": [
    "import os\n",
    "import pandas\n",
    "from openai import AzureOpenAI"
   ]
  },
  {
   "cell_type": "code",
   "execution_count": 5,
   "metadata": {},
   "outputs": [],
   "source": [
    "client = AzureOpenAI(\n",
    "    api_key=\"798788351cf4428fa4fa1b32894b4ef9\" ,  \n",
    "    api_version=\"2024-02-01\",\n",
    "    azure_endpoint = \"https://gptservice0323.openai.azure.com/\"\n",
    "    )\n",
    "      "
   ]
  },
  {
   "cell_type": "code",
   "execution_count": 6,
   "metadata": {},
   "outputs": [],
   "source": [
    "def ask_gpt4(prompt, assistant_content=\"You are a helpful assistant\",debug=False):\n",
    "    messages=[\n",
    "            {\n",
    "                \"role\": \"user\",\n",
    "                \"content\": prompt,\n",
    "            },\n",
    "            {\n",
    "                \"role\": \"assistant\",\n",
    "                \"content\": assistant_content,\n",
    "            },\n",
    "        ]\n",
    "    completion = client.chat.completions.create(\n",
    "        model=\"GPT4analitycsworkshop\",\n",
    "        messages=messages\n",
    "    )\n",
    "    \n",
    "\n",
    "    if debug:\n",
    "        print(completion)\n",
    "        print(completion.choices[0].message.content)\n",
    "    return completion.choices[0].message.content"
   ]
  },
  {
   "cell_type": "markdown",
   "metadata": {},
   "source": [
    "### Strategy 1: Write clear instructions"
   ]
  },
  {
   "cell_type": "markdown",
   "metadata": {},
   "source": [
    "Tactic: Include details in your query to get more relevant answers"
   ]
  },
  {
   "cell_type": "code",
   "execution_count": null,
   "metadata": {},
   "outputs": [],
   "source": [
    "prompt = \"How do I add numbers in Excel?\"\n",
    "print(ask_gpt4(prompt))"
   ]
  },
  {
   "cell_type": "code",
   "execution_count": null,
   "metadata": {},
   "outputs": [],
   "source": [
    "prompt = \"How do I add up a row of dollar amounts in Excel? I want to do this automatically for a whole sheet of rows with all the totals ending up on the right in a column called Total.\"\n",
    "print(ask_gpt4(prompt))"
   ]
  },
  {
   "cell_type": "markdown",
   "metadata": {},
   "source": [
    "Tactic: Ask the model to adopt a persona"
   ]
  },
  {
   "cell_type": "code",
   "execution_count": null,
   "metadata": {},
   "outputs": [],
   "source": [
    "prompt = \"Write a thank you note to my steel bolt vendor for getting the delivery in on time and in short notice. This made it possible for us to deliver an important order.\"\n",
    "system_message = \"You are a helpful assistant. Please include a playful comment in every paragraph.\"\n",
    "response = ask_gpt4(prompt, assistant_content=system_message)\n",
    "\n",
    "print(response)"
   ]
  },
  {
   "cell_type": "markdown",
   "metadata": {},
   "source": [
    "Tactic: Use delimiters to clearly indicate distinct parts of the input\n"
   ]
  },
  {
   "cell_type": "code",
   "execution_count": null,
   "metadata": {},
   "outputs": [],
   "source": [
    "prompt = \"###DELIMITER###\\n\\n\"\n",
    "prompt += \"Question: How can I improve my coding skills?\\n\\n\"\n",
    "prompt += \"###DELIMITER###\\n\\n\"\n",
    "prompt += \"Context: I have been learning Python for a while and want to become a better programmer. What are some strategies or resources I can use to enhance my coding skills?\\n\\n\"\n",
    "\n",
    "response = ask_gpt4(prompt)\n",
    "print(response)"
   ]
  },
  {
   "cell_type": "markdown",
   "metadata": {},
   "source": [
    "Tactic: Specify the steps required to complete a task"
   ]
  },
  {
   "cell_type": "code",
   "execution_count": null,
   "metadata": {},
   "outputs": [],
   "source": [
    "prompt = \"'''The quick brown fox jumps over the lazy dog.'''\"\n",
    "system_message = \"Use the following step-by-step instructions to respond to user inputs.Step 1 - The user will provide you with text in triple quotes. Summarize this text in one sentence with a prefix that says 'Summary: '.Step 2 - Translate the summary from Step 1 into Spanish, with a prefix that says 'Translation: '.\"\n",
    "response = ask_gpt4(prompt, assistant_content=system_message)\n",
    "\n",
    "print(response)"
   ]
  },
  {
   "cell_type": "markdown",
   "metadata": {},
   "source": [
    "Tactic: Provide examples"
   ]
  },
  {
   "cell_type": "code",
   "execution_count": null,
   "metadata": {
    "vscode": {
     "languageId": "javascript"
    }
   },
   "outputs": [],
   "source": [
    "examples = [\n",
    "    {'role': 'user', 'content': 'How can I sum a column of numbers in Excel?'},\n",
    "    {'role': 'assistant', 'content': 'To add numbers in Excel, you can use the SUM function.'},\n",
    "    {'role': 'user', 'content': 'What is the formula to calculate the average in Excel?'},\n",
    "    {'role': 'assistant', 'content': 'To calculate the average in Excel, you can use the AVERAGE function.'},\n",
    "    {'role': 'user', 'content': 'What is the formula to calculate the median in Excel?'},\n",
    "]\n",
    "\n",
    "completion = client.chat.completions.create(\n",
    "    model=\"GPT4analitycsworkshop\",\n",
    "    messages=examples\n",
    ")\n",
    "\n",
    "response = completion.choices[0].message.content\n",
    "print(response)"
   ]
  },
  {
   "cell_type": "markdown",
   "metadata": {
    "vscode": {
     "languageId": "javascript"
    }
   },
   "source": [
    "Tactic: Specify the desired length of the output"
   ]
  },
  {
   "cell_type": "code",
   "execution_count": null,
   "metadata": {
    "vscode": {
     "languageId": "javascript"
    }
   },
   "outputs": [],
   "source": [
    "prompt = \"'''The quick brown fox jumps over the lazy dog.'''\"\n",
    "system_message = \"Extract two key words from the text\"\n",
    "response = ask_gpt4(prompt, assistant_content=system_message)\n",
    "\n",
    "print(response)"
   ]
  },
  {
   "cell_type": "markdown",
   "metadata": {
    "vscode": {
     "languageId": "javascript"
    }
   },
   "source": [
    "Strategy: Provide reference text"
   ]
  },
  {
   "cell_type": "markdown",
   "metadata": {},
   "source": [
    "Tactic: Instruct the model to answer using a reference text"
   ]
  },
  {
   "cell_type": "code",
   "execution_count": 8,
   "metadata": {},
   "outputs": [
    {
     "name": "stdout",
     "output_type": "stream",
     "text": [
      "The color of the fox is brown.\n"
     ]
    }
   ],
   "source": [
    "# Define the articles delimited by triple quotes\n",
    "articles = '''\n",
    "Article 1: The quick brown fox jumps over the lazy dog.\n",
    "Article 2: The dog is sleeping in the sun.\n",
    "Article 3: The fox is chasing the rabbit.\n",
    "Article 4: The rabbit is hiding in the bushes.\n",
    "'''\n",
    "\n",
    "# Define the question\n",
    "question = \"What is the color of the fox?\"\n",
    "\n",
    "# Combine the articles and question into the prompt\n",
    "prompt = articles + \"\\n\\nQuestion: \" + question\n",
    "assistant_content = \"Use the provided articles delimited by triple quotes to answer questions. If the answer cannot be found in the articles, write I could not find an answer.\"\n",
    "# Call the ask_gpt4 function with the prompt\n",
    "response = ask_gpt4(prompt, assistant_content=assistant_content)\n",
    "\n",
    "# Print the response\n",
    "print(response)"
   ]
  },
  {
   "cell_type": "markdown",
   "metadata": {},
   "source": [
    "Tactic: Instruct the model to answer with citations from a reference text"
   ]
  },
  {
   "cell_type": "code",
   "execution_count": 7,
   "metadata": {},
   "outputs": [
    {
     "name": "stdout",
     "output_type": "stream",
     "text": [
      "The color of the fox is brown. ({'citation': 'The quick brown fox jumps over the lazy dog.'})\n"
     ]
    }
   ],
   "source": [
    "# Define the document delimited by triple quotes\n",
    "document = '''\n",
    "The quick brown fox jumps over the lazy dog.\n",
    "The dog is sleeping in the sun.\n",
    "The fox is chasing the rabbit.\n",
    "The rabbit is hiding in the bushes.\n",
    "'''\n",
    "\n",
    "# Define the question\n",
    "question = \"What is the color of the fox?\"\n",
    "\n",
    "# Combine the document and question into the prompt\n",
    "prompt = document + \"\\n\\nQuestion: \" + question\n",
    "assistant_content = \"You will be provided with a document delimited by triple quotes and a question. Your task is to answer the question using only the provided document and to cite the passage(s) of the document used to answer the question. If the document does not contain the information needed to answer this question then simply write: 'Insufficient information.' If an answer to the question is provided, it must be annotated with a citation. Use the following format to cite relevant passages ({'citation': ...}).\"\n",
    "\n",
    "# Call the ask_gpt4 function with the prompt\n",
    "response = ask_gpt4(prompt, assistant_content=assistant_content)\n",
    "\n",
    "# Print the response\n",
    "print(response)"
   ]
  },
  {
   "cell_type": "markdown",
   "metadata": {},
   "source": [
    "Strategy: Split complex tasks into simpler subtasks\n"
   ]
  },
  {
   "cell_type": "markdown",
   "metadata": {},
   "source": [
    "Tactic: Use intent classification to identify the most relevant instructions for a user query"
   ]
  },
  {
   "cell_type": "code",
   "execution_count": 9,
   "metadata": {},
   "outputs": [
    {
     "name": "stdout",
     "output_type": "stream",
     "text": [
      "{'primary': 'Technical Support', 'secondary': 'Troubleshooting'}\n"
     ]
    }
   ],
   "source": [
    "prompt = \"{'role': 'user', 'content': 'I need to get my internet working again.'}\"\n",
    "\n",
    "system_message = \"\"\"\n",
    "You will be provided with customer service queries. Classify each query into a primary category and a secondary category. Provide your output in json format with the keys: primary and secondary.\n",
    "\n",
    "Primary categories: Billing, Technical Support, Account Management, or General Inquiry.\n",
    "\n",
    "Billing secondary categories:\n",
    "- Unsubscribe or upgrade\n",
    "- Add a payment method\n",
    "- Explanation for charge\n",
    "- Dispute a charge\n",
    "\n",
    "Technical Support secondary categories:\n",
    "- Troubleshooting\n",
    "- Device compatibility\n",
    "- Software updates\n",
    "\n",
    "Account Management secondary categories:\n",
    "- Password reset\n",
    "- Update personal information\n",
    "- Close account\n",
    "- Account security\n",
    "\n",
    "General Inquiry secondary categories:\n",
    "- Product information\n",
    "- Pricing\n",
    "- Feedback\n",
    "- Speak to a human\n",
    "\"\"\"\n",
    "response = ask_gpt4(prompt, assistant_content=system_message)\n",
    "\n",
    "print(response)"
   ]
  },
  {
   "cell_type": "code",
   "execution_count": null,
   "metadata": {},
   "outputs": [],
   "source": []
  }
 ],
 "metadata": {
  "kernelspec": {
   "display_name": "hexcode-workshop",
   "language": "python",
   "name": "python3"
  },
  "language_info": {
   "codemirror_mode": {
    "name": "ipython",
    "version": 3
   },
   "file_extension": ".py",
   "mimetype": "text/x-python",
   "name": "python",
   "nbconvert_exporter": "python",
   "pygments_lexer": "ipython3",
   "version": "3.11.2"
  }
 },
 "nbformat": 4,
 "nbformat_minor": 2
}
